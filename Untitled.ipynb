{
 "cells": [
  {
   "cell_type": "code",
   "execution_count": null,
   "id": "7dd8dc62-9b97-4441-bdc5-c691036e9247",
   "metadata": {},
   "outputs": [],
   "source": []
  },
  {
   "cell_type": "code",
   "execution_count": 30,
   "id": "8ffaebf0-5538-4ab7-ac23-45e0d5e6b376",
   "metadata": {
    "tags": []
   },
   "outputs": [
    {
     "name": "stdout",
     "output_type": "stream",
     "text": [
      "UPDATING GIT HUB\n",
      "########################################################\n",
      "From https://github.com/ComradMarx/bow_3\n",
      " * branch            main       -> FETCH_HEAD\n",
      "Already up to date.\n",
      "Reinitialized existing Git repository in /Users/deanemarks/Desktop/bow/.git/\n",
      "[main f2724ed] UPDATED: {curr_date_str}\n",
      " 2 files changed, 28 insertions(+), 14 deletions(-)\n",
      "Enumerating objects: 7, done.\n",
      "Counting objects: 100% (7/7), done.\n",
      "Delta compression using up to 4 threads\n",
      "Compressing objects: 100% (4/4), done.\n",
      "Writing objects: 100% (4/4), 713 bytes | 713.00 KiB/s, done.\n",
      "Total 4 (delta 3), reused 0 (delta 0), pack-reused 0\n",
      "remote: Resolving deltas: 100% (3/3), completed with 3 local objects.\u001b[K\n",
      "To https://github.com/ComradMarx/bow_3.git\n",
      "   be512de..f2724ed  main -> main\n",
      "########################################################\n",
      "GIT HUB UPDATED\n"
     ]
    }
   ],
   "source": [
    "import os\n",
    "\n",
    "#UPDATE GITHUB REPO / WEBPAGE\n",
    "print('UPDATING GIT HUB')\n",
    "print('########################################################')\n",
    "os.chdir('/Users/deanemarks/Desktop/bow')                    #change to working directory (where your code is)\n",
    "!git pull https://github.com/ComradMarx/bow_3.git  main       #pulls the files from github into your directory\n",
    "!git init                                                    #creates a hidden git folder / repo\n",
    "!git add .                                                   #adds all of the \"NEW\" files to the invisible repo\n",
    "!git commit -m \"UPDATED: {curr_date_str}\"                    #commits the \"NEW\" files to the repo\n",
    "!git push https://github.com/ComradMarx/bow_3.git  main       #pushes the files to the repo to github?\n",
    "print('########################################################')\n",
    "print('GIT HUB UPDATED')\n"
   ]
  },
  {
   "cell_type": "code",
   "execution_count": null,
   "id": "24be88e3-eb39-4884-931f-4d8d60aadd66",
   "metadata": {},
   "outputs": [],
   "source": []
  },
  {
   "cell_type": "code",
   "execution_count": null,
   "id": "ab77dde1-3ad1-4af2-8e81-04467ad9b28e",
   "metadata": {},
   "outputs": [],
   "source": []
  },
  {
   "cell_type": "code",
   "execution_count": null,
   "id": "8064e9f9-ed02-48e1-ac19-7245e80d894a",
   "metadata": {},
   "outputs": [],
   "source": []
  },
  {
   "cell_type": "code",
   "execution_count": null,
   "id": "2fec1ae2-b2bf-41e6-b6f9-0b1f355b35b3",
   "metadata": {},
   "outputs": [],
   "source": []
  },
  {
   "cell_type": "code",
   "execution_count": null,
   "id": "66a28ffe-ac12-4c84-9151-dd6bef526e1b",
   "metadata": {},
   "outputs": [],
   "source": []
  },
  {
   "cell_type": "code",
   "execution_count": null,
   "id": "ef6e982c-7461-427a-84f9-07f7fbc3293b",
   "metadata": {},
   "outputs": [],
   "source": []
  },
  {
   "cell_type": "code",
   "execution_count": 7,
   "id": "4cfc4d15-f849-4062-99e5-2e160d47e466",
   "metadata": {
    "tags": []
   },
   "outputs": [
    {
     "name": "stdout",
     "output_type": "stream",
     "text": [
      "Serving HTTP on :: port 8000 (http://[::]:8000/) ...\n",
      "::1 - - [17/May/2023 14:43:50] \"GET / HTTP/1.1\" 304 -\n",
      "::1 - - [17/May/2023 14:43:50] \"GET /logo_mask/1.png HTTP/1.1\" 200 -\n",
      "::1 - - [17/May/2023 14:44:11] \"GET /logo_mask/2.png HTTP/1.1\" 200 -\n",
      "::1 - - [17/May/2023 14:44:16] \"GET /logo_mask/3.png HTTP/1.1\" 200 -\n",
      "::1 - - [17/May/2023 14:44:39] \"GET /logo_mask/4.png HTTP/1.1\" 200 -\n",
      "::1 - - [17/May/2023 14:44:50] \"GET /logo_mask/10.png HTTP/1.1\" 200 -\n",
      "::1 - - [17/May/2023 14:44:52] \"GET /logo_mask/9.png HTTP/1.1\" 200 -\n",
      "::1 - - [17/May/2023 14:44:54] \"GET /logo_mask/8.png HTTP/1.1\" 200 -\n",
      "::1 - - [17/May/2023 14:44:56] \"GET /logo_mask/7.png HTTP/1.1\" 200 -\n",
      "::1 - - [17/May/2023 14:44:58] \"GET /logo_mask/5.png HTTP/1.1\" 200 -\n",
      "::1 - - [17/May/2023 14:46:07] \"GET / HTTP/1.1\" 304 -\n",
      "::1 - - [17/May/2023 14:46:12] \"GET / HTTP/1.1\" 304 -\n",
      "::1 - - [17/May/2023 14:46:51] \"GET / HTTP/1.1\" 304 -\n",
      "::1 - - [17/May/2023 14:47:49] \"GET /logo_mask/6.png HTTP/1.1\" 200 -\n",
      "::1 - - [17/May/2023 14:47:52] \"GET /logo_mask/4.png HTTP/1.1\" 200 -\n",
      "::1 - - [17/May/2023 14:48:45] \"GET / HTTP/1.1\" 304 -\n",
      "::1 - - [17/May/2023 14:48:48] \"GET /logo_mask/5.png HTTP/1.1\" 200 -\n",
      "::1 - - [17/May/2023 14:49:01] \"GET /logo_mask/6.png HTTP/1.1\" 304 -\n",
      "::1 - - [17/May/2023 14:49:03] \"GET /logo_mask/7.png HTTP/1.1\" 200 -\n",
      "::1 - - [17/May/2023 14:50:39] \"GET /logo_mask/7.png HTTP/1.1\" 304 -\n",
      "::1 - - [17/May/2023 14:50:41] \"GET /logo_mask/6.png HTTP/1.1\" 304 -\n",
      "^C\n",
      "\n",
      "Keyboard interrupt received, exiting.\n"
     ]
    }
   ],
   "source": [
    "!python -m http.server\n"
   ]
  },
  {
   "cell_type": "code",
   "execution_count": null,
   "id": "6cdada91-511e-4563-8b0a-2bf9e1e38f94",
   "metadata": {},
   "outputs": [],
   "source": []
  },
  {
   "cell_type": "code",
   "execution_count": null,
   "id": "747670fa-4a30-44a3-b224-1e7d6a8e4a14",
   "metadata": {},
   "outputs": [],
   "source": []
  },
  {
   "cell_type": "code",
   "execution_count": null,
   "id": "198a1025-1fc0-4837-af6b-b3cd0628fafa",
   "metadata": {},
   "outputs": [],
   "source": []
  },
  {
   "cell_type": "code",
   "execution_count": null,
   "id": "a1746c07-44e1-4d43-b94b-f441cc5da321",
   "metadata": {},
   "outputs": [],
   "source": []
  }
 ],
 "metadata": {
  "kernelspec": {
   "display_name": "Python 3 (ipykernel)",
   "language": "python",
   "name": "python3"
  },
  "language_info": {
   "codemirror_mode": {
    "name": "ipython",
    "version": 3
   },
   "file_extension": ".py",
   "mimetype": "text/x-python",
   "name": "python",
   "nbconvert_exporter": "python",
   "pygments_lexer": "ipython3",
   "version": "3.8.16"
  }
 },
 "nbformat": 4,
 "nbformat_minor": 5
}
