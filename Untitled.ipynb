{
 "cells": [
  {
   "cell_type": "code",
   "execution_count": null,
   "id": "7dd8dc62-9b97-4441-bdc5-c691036e9247",
   "metadata": {},
   "outputs": [],
   "source": []
  },
  {
   "cell_type": "code",
   "execution_count": 17,
   "id": "8ffaebf0-5538-4ab7-ac23-45e0d5e6b376",
   "metadata": {
    "tags": []
   },
   "outputs": [
    {
     "name": "stdout",
     "output_type": "stream",
     "text": [
      "UPDATING GIT HUB\n",
      "########################################################\n",
      "fatal: couldn't find remote ref main\n",
      "Reinitialized existing Git repository in /Users/deanemarks/Desktop/bow/.git/\n",
      "On branch main\n",
      "nothing to commit, working tree clean\n",
      "Enumerating objects: 748, done.\n",
      "Counting objects: 100% (748/748), done.\n",
      "Delta compression using up to 4 threads\n",
      "Compressing objects: 100% (748/748), done.\n",
      "Writing objects: 100% (748/748), 116.73 MiB | 1.67 MiB/s, done.\n",
      "Total 748 (delta 71), reused 0 (delta 0), pack-reused 0\n",
      "remote: Resolving deltas: 100% (71/71), done.\u001b[K\n",
      "To https://github.com/ComradMarx/bow_3.git\n",
      " * [new branch]      main -> main\n",
      "########################################################\n",
      "GIT HUB UPDATED\n",
      "\n",
      "\n"
     ]
    }
   ],
   "source": [
    "import os\n",
    "\n",
    "\n",
    "\n",
    "#UPDATE GITHUB REPO / WEBPAGE\n",
    "print('UPDATING GIT HUB')\n",
    "print('########################################################')\n",
    "os.chdir('/Users/deanemarks/Desktop/bow')                    #change to working directory (where your code is)\n",
    "!git pull https://github.com/ComradMarx/bow_3.git  main       #pulls the files from github into your directory\n",
    "!git init                                                    #creates a hidden git folder / repo\n",
    "!git add .                                                   #adds all of the \"NEW\" files to the invisible repo\n",
    "!git commit -m \"UPDATED: {curr_date_str}\"                    #commits the \"NEW\" files to the repo\n",
    "!git push https://github.com/ComradMarx/bow_3.git  main       #pushes the files to the repo to github?\n",
    "print('########################################################')\n",
    "print('GIT HUB UPDATED')\n",
    "print('\\n')"
   ]
  },
  {
   "cell_type": "code",
   "execution_count": 7,
   "id": "4cfc4d15-f849-4062-99e5-2e160d47e466",
   "metadata": {
    "tags": []
   },
   "outputs": [
    {
     "name": "stdout",
     "output_type": "stream",
     "text": [
      "Serving HTTP on :: port 8000 (http://[::]:8000/) ...\n",
      "::1 - - [17/May/2023 14:43:50] \"GET / HTTP/1.1\" 304 -\n",
      "::1 - - [17/May/2023 14:43:50] \"GET /logo_mask/1.png HTTP/1.1\" 200 -\n",
      "::1 - - [17/May/2023 14:44:11] \"GET /logo_mask/2.png HTTP/1.1\" 200 -\n",
      "::1 - - [17/May/2023 14:44:16] \"GET /logo_mask/3.png HTTP/1.1\" 200 -\n",
      "::1 - - [17/May/2023 14:44:39] \"GET /logo_mask/4.png HTTP/1.1\" 200 -\n",
      "::1 - - [17/May/2023 14:44:50] \"GET /logo_mask/10.png HTTP/1.1\" 200 -\n",
      "::1 - - [17/May/2023 14:44:52] \"GET /logo_mask/9.png HTTP/1.1\" 200 -\n",
      "::1 - - [17/May/2023 14:44:54] \"GET /logo_mask/8.png HTTP/1.1\" 200 -\n",
      "::1 - - [17/May/2023 14:44:56] \"GET /logo_mask/7.png HTTP/1.1\" 200 -\n",
      "::1 - - [17/May/2023 14:44:58] \"GET /logo_mask/5.png HTTP/1.1\" 200 -\n",
      "::1 - - [17/May/2023 14:46:07] \"GET / HTTP/1.1\" 304 -\n",
      "::1 - - [17/May/2023 14:46:12] \"GET / HTTP/1.1\" 304 -\n",
      "::1 - - [17/May/2023 14:46:51] \"GET / HTTP/1.1\" 304 -\n",
      "::1 - - [17/May/2023 14:47:49] \"GET /logo_mask/6.png HTTP/1.1\" 200 -\n",
      "::1 - - [17/May/2023 14:47:52] \"GET /logo_mask/4.png HTTP/1.1\" 200 -\n",
      "::1 - - [17/May/2023 14:48:45] \"GET / HTTP/1.1\" 304 -\n",
      "::1 - - [17/May/2023 14:48:48] \"GET /logo_mask/5.png HTTP/1.1\" 200 -\n",
      "::1 - - [17/May/2023 14:49:01] \"GET /logo_mask/6.png HTTP/1.1\" 304 -\n",
      "::1 - - [17/May/2023 14:49:03] \"GET /logo_mask/7.png HTTP/1.1\" 200 -\n",
      "::1 - - [17/May/2023 14:50:39] \"GET /logo_mask/7.png HTTP/1.1\" 304 -\n",
      "::1 - - [17/May/2023 14:50:41] \"GET /logo_mask/6.png HTTP/1.1\" 304 -\n",
      "^C\n",
      "\n",
      "Keyboard interrupt received, exiting.\n"
     ]
    }
   ],
   "source": [
    "!python -m http.server\n"
   ]
  },
  {
   "cell_type": "code",
   "execution_count": null,
   "id": "6cdada91-511e-4563-8b0a-2bf9e1e38f94",
   "metadata": {},
   "outputs": [],
   "source": []
  },
  {
   "cell_type": "code",
   "execution_count": null,
   "id": "747670fa-4a30-44a3-b224-1e7d6a8e4a14",
   "metadata": {},
   "outputs": [],
   "source": []
  },
  {
   "cell_type": "code",
   "execution_count": null,
   "id": "198a1025-1fc0-4837-af6b-b3cd0628fafa",
   "metadata": {},
   "outputs": [],
   "source": []
  },
  {
   "cell_type": "code",
   "execution_count": null,
   "id": "a1746c07-44e1-4d43-b94b-f441cc5da321",
   "metadata": {},
   "outputs": [],
   "source": []
  }
 ],
 "metadata": {
  "kernelspec": {
   "display_name": "Python 3 (ipykernel)",
   "language": "python",
   "name": "python3"
  },
  "language_info": {
   "codemirror_mode": {
    "name": "ipython",
    "version": 3
   },
   "file_extension": ".py",
   "mimetype": "text/x-python",
   "name": "python",
   "nbconvert_exporter": "python",
   "pygments_lexer": "ipython3",
   "version": "3.8.16"
  }
 },
 "nbformat": 4,
 "nbformat_minor": 5
}
